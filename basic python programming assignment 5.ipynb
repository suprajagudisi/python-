{
 "cells": [
  {
   "cell_type": "markdown",
   "metadata": {},
   "source": [
    "Write a Python Program to Find LCM?\n",
    "Write a Python Program to Find HCF?\n",
    "Write a Python Program to Convert Decimal to Binary, Octal and Hexadecimal?\n",
    "Write a Python Program To Find ASCII value of a character?\n",
    "Write a Python Program to Make a Simple Calculator with 4 basic mathematical operations?"
   ]
  },
  {
   "cell_type": "code",
   "execution_count": 9,
   "metadata": {},
   "outputs": [
    {
     "name": "stdout",
     "output_type": "stream",
     "text": [
      "Enter number: 12\n",
      "Enter number: 30\n",
      "60\n"
     ]
    }
   ],
   "source": [
    "def compute_lcm(x,y):\n",
    "    if x>y:\n",
    "        greater = x\n",
    "    else:\n",
    "        greater = y\n",
    "    while(True):\n",
    "        if(greater % x ==0) and (greater % y ==0):\n",
    "            lcm = greater\n",
    "            break\n",
    "        greater +=1\n",
    "    print(lcm)    \n",
    "x = int(input(\"Enter number: \"))\n",
    "y = int(input(\"Enter number: \"))\n",
    "compute_lcm(x,y)"
   ]
  },
  {
   "cell_type": "code",
   "execution_count": null,
   "metadata": {},
   "outputs": [],
   "source": [
    "Write a Python Program to Find HCF?"
   ]
  },
  {
   "cell_type": "code",
   "execution_count": 10,
   "metadata": {},
   "outputs": [
    {
     "name": "stdout",
     "output_type": "stream",
     "text": [
      "Enter number: 20\n",
      "Enter number: 10\n",
      "HCF of two numbers is : 10\n"
     ]
    }
   ],
   "source": [
    "def compute_hcf(x,y):\n",
    "    if x>y:\n",
    "        smaller = y\n",
    "    else:\n",
    "        smaller =x\n",
    "    for i in range(1,smaller+1):\n",
    "        if (x%i ==0)and (y% i ==0):\n",
    "            hcf = i\n",
    "    print(\"HCF of two numbers is :\", hcf)   \n",
    "num1 = int(input(\"Enter number: \"))   \n",
    "num2 = int(input(\"Enter number: \"))\n",
    "compute_hcf(num1,num2)"
   ]
  },
  {
   "cell_type": "code",
   "execution_count": null,
   "metadata": {},
   "outputs": [],
   "source": [
    "Write a Python Program to Convert Decimal to Binary, Octal and Hexadecimal?"
   ]
  },
  {
   "cell_type": "code",
   "execution_count": 11,
   "metadata": {},
   "outputs": [
    {
     "name": "stdout",
     "output_type": "stream",
     "text": [
      "Enter number: 12\n",
      "binary number is:  1100\n",
      "hexadecimal is: c\n",
      "Octal is:  14\n"
     ]
    }
   ],
   "source": [
    "def decimal_to_binary(x):\n",
    "    output = bin(x).replace(\"0b\",\"\")\n",
    "    print(\"binary number is: \",int(output))\n",
    "\n",
    "def decimal_to_hexadecimal(x):\n",
    "    output = hex(x).replace(\"0x\",\"\")\n",
    "    print(\"hexadecimal is:\", output)\n",
    "\n",
    "def decimal_to_octal(x):\n",
    "    output = oct(x).replace(\"0o\",\"\")\n",
    "    print(\"Octal is: \", output)\n",
    "\n",
    "x = int(input(\"Enter number: \"))\n",
    "decimal_to_binary(x)\n",
    "decimal_to_hexadecimal(x)\n",
    "decimal_to_octal(x)"
   ]
  },
  {
   "cell_type": "markdown",
   "metadata": {},
   "source": [
    "Write a Python Program To Find ASCII value of a character?"
   ]
  },
  {
   "cell_type": "code",
   "execution_count": 8,
   "metadata": {},
   "outputs": [
    {
     "name": "stdout",
     "output_type": "stream",
     "text": [
      "Enter number: 087\n",
      "The ASCII value of 87 is W\n"
     ]
    }
   ],
   "source": [
    "def find_ASCII(X):\n",
    "    c = chr(x)\n",
    "    print(\"The ASCII value of {} is {}\".format(x, c))\n",
    "x =int(input(\"Enter number: \"))   \n",
    "find_ASCII(x)"
   ]
  },
  {
   "cell_type": "markdown",
   "metadata": {},
   "source": [
    "5.Write a Python Program to Make a Simple Calculator with 4 basic mathematical operations?"
   ]
  },
  {
   "cell_type": "code",
   "execution_count": 15,
   "metadata": {},
   "outputs": [
    {
     "name": "stdout",
     "output_type": "stream",
     "text": [
      "select options\n",
      "1.addition\n",
      "2.subtraction\n",
      "3.division\n",
      "4.multiplication\n",
      "Enter number(1 or 2 or 3 or 4): 2\n",
      "Enter a value:3\n",
      "Enter b value1\n",
      "subtract of two numbers:  2\n"
     ]
    }
   ],
   "source": [
    "def addition(a,b):\n",
    "   print(\"Sum of two numbers:\",a+b)\n",
    "def subtract(a,b):\n",
    "   print(\"subtract of two numbers: \",a-b)\n",
    "def division(a,b):\n",
    "   print(\"division of two numbers:\",a/b)\n",
    "def mul(a,b):\n",
    "   print(\"mul of two numbers:\",a*b)\n",
    "print(\"select options\")\n",
    "print(\"1.addition\")\n",
    "print(\"2.subtraction\")\n",
    "print(\"3.division\")\n",
    "print(\"4.multiplication\")\n",
    "option = input(\"Enter number(1 or 2 or 3 or 4): \")\n",
    "num1 = int(input(\"Enter a value:\"))\n",
    "num2 = int(input(\"Enter b value\"))\n",
    "if option in ['1','2','3','4']:\n",
    "    if option =='1':\n",
    "         addition(num1,num2)\n",
    "    if option == '2':\n",
    "         subtract(num1,num2)\n",
    "    if option =='3':\n",
    "         division(num1,num2)\n",
    "    if option =='4':\n",
    "         mul(num1,num2)"
   ]
  },
  {
   "cell_type": "code",
   "execution_count": null,
   "metadata": {},
   "outputs": [],
   "source": []
  }
 ],
 "metadata": {
  "kernelspec": {
   "display_name": "Python 3",
   "language": "python",
   "name": "python3"
  },
  "language_info": {
   "codemirror_mode": {
    "name": "ipython",
    "version": 3
   },
   "file_extension": ".py",
   "mimetype": "text/x-python",
   "name": "python",
   "nbconvert_exporter": "python",
   "pygments_lexer": "ipython3",
   "version": "3.8.3"
  }
 },
 "nbformat": 4,
 "nbformat_minor": 4
}
