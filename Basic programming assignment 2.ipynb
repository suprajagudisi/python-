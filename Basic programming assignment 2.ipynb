{
 "cells": [
  {
   "cell_type": "markdown",
   "metadata": {},
   "source": [
    "1.\tWrite a Python program to convert kilometers to miles?"
   ]
  },
  {
   "cell_type": "code",
   "execution_count": 1,
   "metadata": {},
   "outputs": [
    {
     "name": "stdout",
     "output_type": "stream",
     "text": [
      "Enter number: 32\n",
      "19.88\n"
     ]
    }
   ],
   "source": [
    "def convert_km_to_mi(num):\n",
    "    miles = num * 0.621371\n",
    "    print(\"{:.2f}\".format(miles))\n",
    "number = int(input(\"Enter number: \")) \n",
    "convert_km_to_mi(number)"
   ]
  },
  {
   "cell_type": "markdown",
   "metadata": {},
   "source": [
    "2.\tWrite a Python program to convert Celsius to Fahrenheit?"
   ]
  },
  {
   "cell_type": "code",
   "execution_count": 4,
   "metadata": {},
   "outputs": [
    {
     "name": "stdout",
     "output_type": "stream",
     "text": [
      "Enter number: 10\n",
      "50.0\n"
     ]
    }
   ],
   "source": [
    "def convert_cel_to_fr(cel):\n",
    "    fahrenheit = (cel *1.8) + 32\n",
    "    print(fahrenheit)\n",
    "num = int(input(\"Enter number: \")) \n",
    "convert_cel_to_fr(num)"
   ]
  },
  {
   "cell_type": "markdown",
   "metadata": {},
   "source": [
    "3.\tWrite a Python program to display calendar?"
   ]
  },
  {
   "cell_type": "code",
   "execution_count": 5,
   "metadata": {},
   "outputs": [
    {
     "name": "stdout",
     "output_type": "stream",
     "text": [
      "Enter year: 2027\n",
      "Enter month: 4\n",
      "     April 2027\n",
      "Su Mo Tu We Th Fr Sa\n",
      "             1  2  3\n",
      " 4  5  6  7  8  9 10\n",
      "11 12 13 14 15 16 17\n",
      "18 19 20 21 22 23 24\n",
      "25 26 27 28 29 30\n",
      "\n"
     ]
    }
   ],
   "source": [
    "import calendar\n",
    "def display_calendar(year,month):\n",
    "    dy = calendar.TextCalendar(calendar.SUNDAY)\n",
    "    cal = dy.formatmonth(year,month)\n",
    "    print(cal)\n",
    "year = int(input(\"Enter year: \")) \n",
    "month = int(input(\"Enter month: \"))\n",
    "display_calendar(year,month)"
   ]
  },
  {
   "cell_type": "markdown",
   "metadata": {},
   "source": [
    "4.\tWrite a Python program to solve quadratic equation?"
   ]
  },
  {
   "cell_type": "code",
   "execution_count": 2,
   "metadata": {},
   "outputs": [
    {
     "name": "stdout",
     "output_type": "stream",
     "text": [
      "a: 1\n",
      "Enter b: 2\n",
      "Enter c: 5\n",
      "The answers are (-1-2j) and (-1+2j)\n"
     ]
    }
   ],
   "source": [
    "import cmath\n",
    "import sys\n",
    "def quard_eq(a,b,c):\n",
    "    discrim = (b**2)-(4*a*c)\n",
    "    sol1 = (-b- cmath.sqrt(discrim))/ (2*a)\n",
    "    sol2 = (-b+ cmath.sqrt(discrim))/ (2*a)\n",
    "    print(\"The answers are {} and {}\".format(sol1,sol2))\n",
    "a = int(input(\"a: \")) \n",
    "if a==0:\n",
    "    print (\"Please enter number > 0\")\n",
    "    sys.exit()\n",
    "b = int(input(\"Enter b: \")) \n",
    "c = int(input(\"Enter c: \"))\n",
    "quard_eq(a,b,c)"
   ]
  },
  {
   "cell_type": "markdown",
   "metadata": {},
   "source": [
    "5.\tWrite a Python program to swap two variables without temp variable?"
   ]
  },
  {
   "cell_type": "code",
   "execution_count": 5,
   "metadata": {},
   "outputs": [
    {
     "name": "stdout",
     "output_type": "stream",
     "text": [
      "Enter x: 3\n",
      "Enter y: 4\n",
      "After swapping x = 4, y = 3\n"
     ]
    }
   ],
   "source": [
    "def swap_no_temp(x,y):\n",
    "    x = x + y\n",
    "    y = x - y\n",
    "    x = x - y\n",
    "    print(\"After swapping x = {}, y = {}\".format(x,y))\n",
    "a =int(input(\"Enter x: \"))  \n",
    "b = int(input(\"Enter y: \"))\n",
    "swap_no_temp(a,b)"
   ]
  },
  {
   "cell_type": "code",
   "execution_count": null,
   "metadata": {},
   "outputs": [],
   "source": []
  }
 ],
 "metadata": {
  "kernelspec": {
   "display_name": "Python 3",
   "language": "python",
   "name": "python3"
  },
  "language_info": {
   "codemirror_mode": {
    "name": "ipython",
    "version": 3
   },
   "file_extension": ".py",
   "mimetype": "text/x-python",
   "name": "python",
   "nbconvert_exporter": "python",
   "pygments_lexer": "ipython3",
   "version": "3.8.3"
  }
 },
 "nbformat": 4,
 "nbformat_minor": 4
}
