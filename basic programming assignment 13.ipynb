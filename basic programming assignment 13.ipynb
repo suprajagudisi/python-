{
 "cells": [
  {
   "cell_type": "markdown",
   "metadata": {},
   "source": [
    "Write a program that calculates and prints the value according to the given formula:\n",
    "Q = Square root of [(2 * C * D)/H]\n",
    "Following are the fixed values of C and H:\n",
    "C is 50. H is 30.\n",
    "D is the variable whose values should be input to your program in a comma-separated\n",
    "sequence."
   ]
  },
  {
   "cell_type": "code",
   "execution_count": 29,
   "metadata": {},
   "outputs": [
    {
     "name": "stdout",
     "output_type": "stream",
     "text": [
      "Enter numbers in a comma seperated sequence100,150,180\n",
      "18,22,24\n"
     ]
    }
   ],
   "source": [
    "import math\n",
    "def sqrt(d,c= 50,h  = 30):\n",
    "    result =\"\"\n",
    "    s =[]\n",
    "    s = d.split(\",\")\n",
    "    for item, i in enumerate(s):\n",
    "        q = math.sqrt((2 *c*int(i))/h)\n",
    "        result = result +str(int(q))\n",
    "       \n",
    "        if item<len(s)-1:\n",
    "            result = result+\",\"\n",
    "    return result\n",
    "        \n",
    "    \n",
    "d = input(\"Enter numbers in a comma seperated sequence\")       \n",
    "sq = sqrt(d)        \n",
    "print(sq)   "
   ]
  },
  {
   "cell_type": "markdown",
   "metadata": {},
   "source": [
    "Question 2:\n",
    "Write a program which takes 2 digits, X,Y as input and generates a 2-dimensional array. The\n",
    "element value in the i-th row and j-th column of the array should be i*j.\n",
    "Note: i=0,1.., X-1; j=0,1,¡Y-1."
   ]
  },
  {
   "cell_type": "code",
   "execution_count": 35,
   "metadata": {},
   "outputs": [
    {
     "name": "stdout",
     "output_type": "stream",
     "text": [
      "3\n",
      "5\n",
      "[[0, 0, 0, 0, 0], [0, 1, 2, 3, 4], [0, 2, 4, 6, 8]]\n"
     ]
    }
   ],
   "source": [
    "def arrgen(r,c):\n",
    "    arr=[]\n",
    "    for i in range(r):\n",
    "        co =[]\n",
    "        for j in range(c):\n",
    "            co.append(i*j)\n",
    "        arr.append(co)    \n",
    "            \n",
    "    return arr        \n",
    "r=int(input())  \n",
    "c=int(input())\n",
    "s=arrgen(r,c)\n",
    "print(s)"
   ]
  },
  {
   "cell_type": "markdown",
   "metadata": {},
   "source": [
    "Question 3:\n",
    "Write a program that accepts a comma separated sequence of words as input and prints the\n",
    "words in a comma-separated sequence after sorting them alphabetically.\n",
    "Suppose the following input is supplied to the program:\n",
    "without,hello,bag,world\n",
    "Then, the output should be:\n",
    "bag,hello,without,world"
   ]
  },
  {
   "cell_type": "code",
   "execution_count": 47,
   "metadata": {},
   "outputs": [
    {
     "name": "stdout",
     "output_type": "stream",
     "text": [
      "enter comma seperator sequence of words: Mango,Orange,Apple,Pineapple,Strawberry\n",
      "Apple,Mango,Orange,Pineapple,Strawberry\n"
     ]
    }
   ],
   "source": [
    "def sort_words():\n",
    "    s = input(\"enter comma seperator sequence of words: \")\n",
    "    \n",
    "    s = s.split(\",\")\n",
    "    s.sort()\n",
    "    result = \"\"\n",
    "    for item,i in enumerate(s):\n",
    "        result = result + i\n",
    "        if  item< len(s)-1:\n",
    "            \n",
    "            result = result +\",\"\n",
    "        \n",
    "    return result   \n",
    "print(sort_words())"
   ]
  },
  {
   "cell_type": "markdown",
   "metadata": {},
   "source": [
    "Question 4:\n",
    "Write a program that accepts a sequence of whitespace separated words as input and prints\n",
    "the words after removing all duplicate words and sorting them alphanumerically.\n",
    "Suppose the following input is supplied to the program:\n",
    "hello world and practice makes perfect and hello world again\n",
    "Then, the output should be:\n",
    "again and hello makes perfect practice world"
   ]
  },
  {
   "cell_type": "code",
   "execution_count": 53,
   "metadata": {},
   "outputs": [
    {
     "name": "stdout",
     "output_type": "stream",
     "text": [
      "Enter the comma seperated sequence of words: coding is not that tough if we keep practicing everyday\n",
      "coding everyday if is keep not practicing that tough we\n"
     ]
    }
   ],
   "source": [
    "def sort_list_words():\n",
    "    l = input(\"Enter the comma seperated sequence of words: \")\n",
    "    l= l.split(\" \")\n",
    "    s= set(l)\n",
    "    s=sorted(s)\n",
    "    result =\"\"\n",
    "   \n",
    "    for item,i in enumerate(s):\n",
    "        result = result+i\n",
    "        if item < len(s)-1:\n",
    "            result = result + \" \"\n",
    "    return result        \n",
    "print(sort_list_words())    "
   ]
  },
  {
   "cell_type": "markdown",
   "metadata": {},
   "source": [
    "Question 5:\n",
    "Write a program that accepts a sentence and calculate the number of letters and digits.\n",
    "Suppose the following input is supplied to the program:\n",
    "hello world! 123\n",
    "Then, the output should be:\n",
    "LETTERS 10\n",
    "DIGITS 3"
   ]
  },
  {
   "cell_type": "code",
   "execution_count": 60,
   "metadata": {},
   "outputs": [
    {
     "name": "stdout",
     "output_type": "stream",
     "text": [
      "hello world! 123\n",
      "LETTERS  10\n",
      "DIGITS  3\n"
     ]
    }
   ],
   "source": [
    "def let_dig_cal():\n",
    "    l = input()\n",
    "    let_count =0\n",
    "    dig_count =0\n",
    "    for i in l:\n",
    "       \n",
    "        if i.isdigit()==True:\n",
    "            dig_count = dig_count+1\n",
    "        elif i.isalpha()==True:\n",
    "            let_count=let_count+1\n",
    "            \n",
    "    return  let_count,dig_count     \n",
    "l,d = let_dig_cal() \n",
    "print(\"LETTERS \",l)\n",
    "print(\"DIGITS \",d)"
   ]
  },
  {
   "cell_type": "markdown",
   "metadata": {},
   "source": [
    "Question 6:\n",
    "A website requires the users to input username and password to register. Write a program to\n",
    "check the validity of password input by users.\n",
    "Following are the criteria for checking the password:\n",
    "1. At least 1 letter between [a-z]\n",
    "2. At least 1 number between [0-9]\n",
    "1. At least 1 letter between [A-Z]\n",
    "3. At least 1 character from [$#@]\n",
    "4. Minimum length of transaction password: 6\n",
    "5. Maximum length of transaction password: 12\n",
    "Your program should accept a sequence of comma separated passwords and will check them\n",
    "according to the above criteria. Passwords that match the criteria are to be printed, each\n",
    "separated by a comma.\n",
    "Example\n",
    "ABd1234@1,a F1#,2w3E*,2We3345If the following passwords are given as input to the program:\n",
    "\n",
    "Then, the output of the program should be:\n",
    "ABd1234@1"
   ]
  },
  {
   "cell_type": "code",
   "execution_count": 103,
   "metadata": {},
   "outputs": [],
   "source": [
    "def check_validity_password():\n",
    "    user = input(\"username: \")\n",
    "    password = input(\"password: \")\n",
    "    password = password.split(\",\")\n",
    "\n",
    "    for i in password:\n",
    "        upp_count = 0\n",
    "        low_count =0\n",
    "        dig_count =0\n",
    "        spl_count =0\n",
    "        if  len(i)>=6 and len(i)<=12:\n",
    "           \n",
    "            for j in i:\n",
    "                \n",
    "                if j.isalpha()==True:\n",
    "                    if j.isupper() == True:\n",
    "                        upp_count+=1\n",
    "                    if j.islower()==True:\n",
    "                        low_count+=1\n",
    "                elif j.isdigit() ==True:\n",
    "                    dig_count+=1\n",
    "                elif j ==\"$\" or j ==\"#\" or j==\"@\":\n",
    "                    spl_count+=1\n",
    "       \n",
    "        \n",
    "        if upp_count>0 and low_count> 0 and dig_count >0 and spl_count >0: \n",
    "            return i\n",
    "        "
   ]
  },
  {
   "cell_type": "code",
   "execution_count": 104,
   "metadata": {},
   "outputs": [
    {
     "name": "stdout",
     "output_type": "stream",
     "text": [
      "username: ineuron\n",
      "password: ABd1234@1,a F1#,2w3E*,2We3345\n",
      "ABd1234@1\n"
     ]
    }
   ],
   "source": [
    "check = check_validity_password()\n",
    "print(check)"
   ]
  },
  {
   "cell_type": "code",
   "execution_count": null,
   "metadata": {},
   "outputs": [],
   "source": []
  }
 ],
 "metadata": {
  "kernelspec": {
   "display_name": "Python 3",
   "language": "python",
   "name": "python3"
  },
  "language_info": {
   "codemirror_mode": {
    "name": "ipython",
    "version": 3
   },
   "file_extension": ".py",
   "mimetype": "text/x-python",
   "name": "python",
   "nbconvert_exporter": "python",
   "pygments_lexer": "ipython3",
   "version": "3.8.3"
  }
 },
 "nbformat": 4,
 "nbformat_minor": 4
}
