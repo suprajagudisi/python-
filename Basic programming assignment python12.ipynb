{
 "cells": [
  {
   "cell_type": "markdown",
   "metadata": {},
   "source": [
    "Write a Python program to Extract Unique values dictionary values?\n"
   ]
  },
  {
   "cell_type": "code",
   "execution_count": 6,
   "metadata": {},
   "outputs": [
    {
     "name": "stdout",
     "output_type": "stream",
     "text": [
      "{1, 3, 5, 6, 7, 8, 9}\n"
     ]
    }
   ],
   "source": [
    "val=[]\n",
    "c\n",
    "for ele in d.values():\n",
    "    for n in ele:\n",
    "        val.append(n) \n",
    "        \n",
    "print(set(val))"
   ]
  },
  {
   "cell_type": "markdown",
   "metadata": {},
   "source": [
    "2. Write a Python program to find the sum of all items in a dictionary?"
   ]
  },
  {
   "cell_type": "code",
   "execution_count": 9,
   "metadata": {},
   "outputs": [
    {
     "name": "stdout",
     "output_type": "stream",
     "text": [
      "47\n"
     ]
    }
   ],
   "source": [
    "\n",
    "sum =0\n",
    "d={\"app\":{1,5,7},\n",
    "  \"disk\":{3,6,8},\n",
    "  \"pen\":{9,5,3}}\n",
    "for ele in d.values():\n",
    "    for n in ele:\n",
    "        sum = sum+n\n",
    "print(sum)        "
   ]
  },
  {
   "cell_type": "markdown",
   "metadata": {},
   "source": [
    "3. Write a Python program to Merging two Dictionaries?"
   ]
  },
  {
   "cell_type": "code",
   "execution_count": 16,
   "metadata": {},
   "outputs": [
    {
     "name": "stdout",
     "output_type": "stream",
     "text": [
      "{'app': {1, 5, 7}, 'disk': {8, 3, 6}, 'pen': {9, 3, 5}, 'app2': {1, 5, 7}, 'disk2': {8, 3, 6}, 'pen2': {9, 3, 5}}\n"
     ]
    }
   ],
   "source": [
    "d={\"app\":{1,5,7},\n",
    "  \"disk\":{3,6,8},\n",
    "  \"pen\":{9,5,3}}\n",
    "d2 ={\"app2\":{1,5,7},\n",
    "  \"disk2\":{3,6,8},\n",
    "  \"pen2\":{9,5,3}}\n",
    "result = {**d,**d2}\n",
    "print(result)"
   ]
  },
  {
   "cell_type": "markdown",
   "metadata": {},
   "source": [
    "4. Write a Python program to convert key-values list to flat dictionary?"
   ]
  },
  {
   "cell_type": "markdown",
   "metadata": {},
   "source": [
    "d={\"app\":{1,5,7},\n",
    "  \"disk\":{3,6,8}}\n",
    "result = dict(zip(d['app'],d['disk']))\n",
    "print(result)"
   ]
  },
  {
   "cell_type": "markdown",
   "metadata": {},
   "source": [
    "5. Write a Python program to insertion at the beginning in OrderedDict?"
   ]
  },
  {
   "cell_type": "code",
   "execution_count": 47,
   "metadata": {},
   "outputs": [
    {
     "name": "stdout",
     "output_type": "stream",
     "text": [
      "before:  OrderedDict([(1, 4), (5, 3), (7, 1), (2, 6), (0, 10)])\n",
      "After: OrderedDict([(0, 10), (1, 4), (5, 3), (7, 1), (2, 6)])\n"
     ]
    }
   ],
   "source": [
    "from collections import OrderedDict\n",
    "x = OrderedDict([(1,4),(5,3),(7,1),(2,6)])\n",
    "x.update({0:10})\n",
    "print(\"before: \",x)\n",
    "x.move_to_end(0,last =False)\n",
    "print(\"After:\" ,x)\n"
   ]
  },
  {
   "cell_type": "markdown",
   "metadata": {},
   "source": [
    "6. Write a Python program to check order of character in string using OrderedDict()?"
   ]
  },
  {
   "cell_type": "code",
   "execution_count": 64,
   "metadata": {},
   "outputs": [
    {
     "name": "stdout",
     "output_type": "stream",
     "text": [
      "true\n"
     ]
    }
   ],
   "source": [
    "from collections import OrderedDict\n",
    "def checkorder(inp,pattern):\n",
    "    dict = OrderedDict.fromkeys(inp)\n",
    "    ptrlen =0\n",
    "    for key,value in dict.items():\n",
    "        if(key==pattern[ptrlen]):\n",
    "            ptrlen = ptrlen+1\n",
    "            \n",
    "        if (ptrlen == len(pattern)):\n",
    "            return 'true'\n",
    "    return 'false' \n",
    "inp = \"Hello Python\"\n",
    "\n",
    "pattern = \"Hey\"\n",
    "print(checkorder(inp,pattern))"
   ]
  },
  {
   "cell_type": "markdown",
   "metadata": {},
   "source": [
    "7. Write a Python program to sort Python Dictionaries by Key or Value?"
   ]
  },
  {
   "cell_type": "code",
   "execution_count": 69,
   "metadata": {},
   "outputs": [
    {
     "name": "stdout",
     "output_type": "stream",
     "text": [
      "[{5, 6, 7}, {8, 9, 6}, {9, 3, 5}]\n",
      "['app', 'desk', 'pen']\n"
     ]
    }
   ],
   "source": [
    "d={\"desk\":{6,5,7},\n",
    "  \"pen\":{9,6,8},\n",
    "  \"app\":{9,5,3}}\n",
    "\n",
    "print(sorted(d.values()))\n",
    "print(sorted(d.keys()))"
   ]
  }
 ],
 "metadata": {
  "kernelspec": {
   "display_name": "Python 3",
   "language": "python",
   "name": "python3"
  },
  "language_info": {
   "codemirror_mode": {
    "name": "ipython",
    "version": 3
   },
   "file_extension": ".py",
   "mimetype": "text/x-python",
   "name": "python",
   "nbconvert_exporter": "python",
   "pygments_lexer": "ipython3",
   "version": "3.8.3"
  }
 },
 "nbformat": 4,
 "nbformat_minor": 4
}
