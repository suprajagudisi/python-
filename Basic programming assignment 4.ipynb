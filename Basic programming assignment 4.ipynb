{
 "cells": [
  {
   "cell_type": "markdown",
   "metadata": {},
   "source": [
    "1. Write a Python Program to Find the Factorial of a Number?\n"
   ]
  },
  {
   "cell_type": "code",
   "execution_count": 7,
   "metadata": {},
   "outputs": [
    {
     "name": "stdout",
     "output_type": "stream",
     "text": [
      "5\n",
      "Factorial of 5: 120\n"
     ]
    }
   ],
   "source": [
    "def fact(num):\n",
    "    f= num\n",
    "    for i in range(num-1,1,-1):\n",
    "        f = f*i\n",
    "    print(\"Factorial of {}: {}\".format(num, f))\n",
    "num = int(input() )\n",
    "fact(num)"
   ]
  },
  {
   "cell_type": "markdown",
   "metadata": {},
   "source": [
    "2. Write a Python Program to Display the multiplication Table?"
   ]
  },
  {
   "cell_type": "code",
   "execution_count": 8,
   "metadata": {},
   "outputs": [
    {
     "name": "stdout",
     "output_type": "stream",
     "text": [
      "Enter number: 5\n",
      "5 * 1 = 5\n",
      "5 * 2 = 10\n",
      "5 * 3 = 15\n",
      "5 * 4 = 20\n",
      "5 * 5 = 25\n",
      "5 * 6 = 30\n",
      "5 * 7 = 35\n",
      "5 * 8 = 40\n",
      "5 * 9 = 45\n",
      "5 * 10 = 50\n"
     ]
    }
   ],
   "source": [
    "def mul(num):\n",
    "    for i in range(1,11):\n",
    "        print(\"{0} * {1} = {2}\".format(num,i,num*i))\n",
    "num = int(input(\"Enter number: \"))\n",
    "mul(num)"
   ]
  },
  {
   "cell_type": "markdown",
   "metadata": {},
   "source": [
    "3. Write a Python Program to Print the Fibonacci sequence?"
   ]
  },
  {
   "cell_type": "code",
   "execution_count": 21,
   "metadata": {},
   "outputs": [
    {
     "name": "stdout",
     "output_type": "stream",
     "text": [
      "Enter number: 10\n",
      "0\n",
      "1\n",
      "1\n",
      "2\n",
      "3\n",
      "5\n",
      "8\n",
      "13\n",
      "21\n",
      "34\n"
     ]
    }
   ],
   "source": [
    "def fib(num):\n",
    "    \n",
    "    f0=0\n",
    "    f1=1\n",
    "    c = 0\n",
    "    print(f0)\n",
    "    print(f1)\n",
    "    for i in range(1,num-1):\n",
    "        c=f0+f1\n",
    "        f0=f1\n",
    "        f1=c\n",
    "        print(c)\n",
    "num = int(input(\"Enter number: \"))  \n",
    "fib(num)"
   ]
  },
  {
   "cell_type": "markdown",
   "metadata": {},
   "source": [
    "4. Write a Python Program to Check Armstrong Number?"
   ]
  },
  {
   "cell_type": "code",
   "execution_count": 28,
   "metadata": {},
   "outputs": [
    {
     "name": "stdout",
     "output_type": "stream",
     "text": [
      "Enter number: 153\n",
      "153 is a armstrong number\n"
     ]
    }
   ],
   "source": [
    "def armstrong(num):\n",
    "    s =0\n",
    "    for i in num:\n",
    "        q= int(i)\n",
    "        s += (q*q*q)\n",
    "    if s == int(num):\n",
    "        print(\"{} is a armstrong number\".format(num))\n",
    "    else:\n",
    "        print(\"{} is not a armstrong number\".format(num))\n",
    "num = input(\"Enter number: \")    \n",
    "armstrong(num)"
   ]
  },
  {
   "cell_type": "markdown",
   "metadata": {},
   "source": [
    "5. Write a Python Program to Find Armstrong Number in an Interval?"
   ]
  },
  {
   "cell_type": "code",
   "execution_count": 35,
   "metadata": {},
   "outputs": [
    {
     "name": "stdout",
     "output_type": "stream",
     "text": [
      "Enter starting number: 100\n",
      "Enter ending number: 200\n",
      "153 is a armstrong number\n"
     ]
    }
   ],
   "source": [
    "start = int(input(\"Enter starting number: \") )\n",
    "end = int(input(\"Enter ending number: \") )\n",
    "for i in range(start,end):\n",
    "    s =0\n",
    "    i = str(i)\n",
    "    for j in i:\n",
    "        q= int(j)\n",
    "        s += (q*q*q)\n",
    "    if s == int(i):\n",
    "        print(\"{} is a armstrong number\".format(i))\n",
    "   \n",
    "   \n"
   ]
  },
  {
   "cell_type": "markdown",
   "metadata": {},
   "source": [
    "6. Write a Python Program to Find the Sum of Natural Numbers?"
   ]
  },
  {
   "cell_type": "code",
   "execution_count": 39,
   "metadata": {},
   "outputs": [
    {
     "name": "stdout",
     "output_type": "stream",
     "text": [
      "Enter number: 6\n",
      "sum of 6 natural numbers is: 21\n"
     ]
    }
   ],
   "source": [
    "def sum_natural_number(num):\n",
    "    sum =0\n",
    "    for i in range(1,num+1):\n",
    "        sum = sum+i\n",
    "    print(\"sum of {} natural numbers is: {}\".format(num,sum))    \n",
    "num = int(input(\"Enter number: \") )  \n",
    "sum_natural_number(num)"
   ]
  },
  {
   "cell_type": "code",
   "execution_count": null,
   "metadata": {},
   "outputs": [],
   "source": []
  }
 ],
 "metadata": {
  "kernelspec": {
   "display_name": "Python 3",
   "language": "python",
   "name": "python3"
  },
  "language_info": {
   "codemirror_mode": {
    "name": "ipython",
    "version": 3
   },
   "file_extension": ".py",
   "mimetype": "text/x-python",
   "name": "python",
   "nbconvert_exporter": "python",
   "pygments_lexer": "ipython3",
   "version": "3.8.3"
  }
 },
 "nbformat": 4,
 "nbformat_minor": 4
}
