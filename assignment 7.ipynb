{
 "cells": [
  {
   "cell_type": "markdown",
   "metadata": {},
   "source": [
    "1.Write a Python Program to find sum of array?"
   ]
  },
  {
   "cell_type": "code",
   "execution_count": 6,
   "metadata": {},
   "outputs": [
    {
     "name": "stdout",
     "output_type": "stream",
     "text": [
      "Enter length of an array5\n",
      "Enter number1\n",
      "Enter number2\n",
      "Enter number3\n",
      "Enter number4\n",
      "Enter number5\n"
     ]
    },
    {
     "data": {
      "text/plain": [
       "15"
      ]
     },
     "execution_count": 6,
     "metadata": {},
     "output_type": "execute_result"
    }
   ],
   "source": [
    "from array import * \n",
    "arr = array('i',[])\n",
    "n = int(input(\"Enter length of an array\"))\n",
    "\n",
    "def sum_array(n):\n",
    "    sum =0\n",
    "    for i in range(0,n):\n",
    "        num =int(input(\"Enter number\"))\n",
    "        arr.append(num)\n",
    "        sum +=num\n",
    "    return sum\n",
    "sum_array(n)"
   ]
  },
  {
   "cell_type": "markdown",
   "metadata": {},
   "source": [
    "2. Write a Python Program to find largest element in an array?"
   ]
  },
  {
   "cell_type": "code",
   "execution_count": 8,
   "metadata": {},
   "outputs": [
    {
     "name": "stdout",
     "output_type": "stream",
     "text": [
      "Enter length of an array5\n",
      "Enter number1\n",
      "Enter number4\n",
      "Enter number7\n",
      "Enter number6\n",
      "Enter number3\n"
     ]
    },
    {
     "data": {
      "text/plain": [
       "7"
      ]
     },
     "execution_count": 8,
     "metadata": {},
     "output_type": "execute_result"
    }
   ],
   "source": [
    "from array import * \n",
    "arr = array('i',[])\n",
    "n = int(input(\"Enter length of an array\"))\n",
    "\n",
    "def large_array(n):\n",
    "    num2 =0\n",
    "    for i in range(0,n):\n",
    "        num =int(input(\"Enter number\"))\n",
    "        arr.append(num)\n",
    "        if num > num2:\n",
    "            greater = num\n",
    "            num2 = num\n",
    "    return greater\n",
    "large_array(n)"
   ]
  },
  {
   "cell_type": "markdown",
   "metadata": {},
   "source": [
    "3. Write a Python Program for array rotation?"
   ]
  },
  {
   "cell_type": "code",
   "execution_count": 20,
   "metadata": {},
   "outputs": [
    {
     "name": "stdout",
     "output_type": "stream",
     "text": [
      "Enter length of an array5\n",
      "number of rotates:3\n",
      "Enter number1\n",
      "Enter number2\n",
      "Enter number3\n",
      "Enter number4\n",
      "Enter number5\n"
     ]
    },
    {
     "data": {
      "text/plain": [
       "array('i', [4, 5, 1, 2, 3])"
      ]
     },
     "execution_count": 20,
     "metadata": {},
     "output_type": "execute_result"
    }
   ],
   "source": [
    "from array import *\n",
    "\n",
    "\n",
    "n = int(input(\"Enter length of an array\"))\n",
    "r = int(input(\"number of rotates:\"))\n",
    "def rotate_array(n):\n",
    "    arr = array('i',[])\n",
    "    for i in range(0,n):\n",
    "        num =int(input(\"Enter number\"))\n",
    "        arr.append(num)\n",
    "     \n",
    "    arr=arr[r:]+arr[:r]\n",
    "        \n",
    "    return arr\n",
    "rotate_array(n)"
   ]
  },
  {
   "cell_type": "markdown",
   "metadata": {},
   "source": [
    "4. Write a Python Program to Split the array and add the first part to the end?"
   ]
  },
  {
   "cell_type": "code",
   "execution_count": 63,
   "metadata": {},
   "outputs": [
    {
     "name": "stdout",
     "output_type": "stream",
     "text": [
      "[1 2 3 4 5 6]\n",
      "[array([1, 2, 3]), array([4, 5, 6])]\n",
      "[array([4, 5, 6]), array([1, 2, 3])]\n"
     ]
    }
   ],
   "source": [
    "import numpy as np\n",
    "arr=np.array([1,2,3,4,5,6])\n",
    "print(arr)\n",
    "newarr= np.array_split(arr,2)\n",
    "print(newarr)\n",
    "newarr =newarr[1:]+newarr[:1]\n",
    "print(newarr)"
   ]
  },
  {
   "cell_type": "markdown",
   "metadata": {},
   "source": [
    "5. Write a Python Program to check if given array is Monotonic?"
   ]
  },
  {
   "cell_type": "code",
   "execution_count": 68,
   "metadata": {},
   "outputs": [
    {
     "name": "stdout",
     "output_type": "stream",
     "text": [
      "True\n"
     ]
    }
   ],
   "source": [
    "def ismonotonic(A):\n",
    "    return(all(A[i] <= A[i+1] for i in range(len(A)-1))or all(A[i] >=A[i+1]for i in range(len(A)-1)))\n",
    "A = [4,6,7,7]\n",
    "print(ismonotonic(A))"
   ]
  }
 ],
 "metadata": {
  "kernelspec": {
   "display_name": "Python 3",
   "language": "python",
   "name": "python3"
  },
  "language_info": {
   "codemirror_mode": {
    "name": "ipython",
    "version": 3
   },
   "file_extension": ".py",
   "mimetype": "text/x-python",
   "name": "python",
   "nbconvert_exporter": "python",
   "pygments_lexer": "ipython3",
   "version": "3.8.3"
  }
 },
 "nbformat": 4,
 "nbformat_minor": 4
}
