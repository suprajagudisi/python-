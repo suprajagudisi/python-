{
 "cells": [
  {
   "cell_type": "markdown",
   "metadata": {},
   "source": [
    "1.Write a Python program to find sum of elements in list?\n"
   ]
  },
  {
   "cell_type": "code",
   "execution_count": 2,
   "metadata": {},
   "outputs": [
    {
     "name": "stdout",
     "output_type": "stream",
     "text": [
      "Enter the number of elements in the list6\n",
      "Enter number:1\n",
      "Enter number:2\n",
      "Enter number:3\n",
      "Enter number:4\n",
      "Enter number:5\n",
      "Enter number:6\n",
      "sum of elements in the list: 21\n"
     ]
    }
   ],
   "source": [
    "l =[]\n",
    "sum = 0\n",
    "x=int(input(\"Enter the number of elements in the list\"))\n",
    "for i in range(x):\n",
    "    n=int(input(\"Enter number:\"))\n",
    "    sum = sum+n\n",
    "print(\"sum of elements in the list:\",sum)       "
   ]
  },
  {
   "cell_type": "markdown",
   "metadata": {},
   "source": [
    "2. Write a Python program to Multiply all numbers in the list?"
   ]
  },
  {
   "cell_type": "code",
   "execution_count": 6,
   "metadata": {},
   "outputs": [
    {
     "name": "stdout",
     "output_type": "stream",
     "text": [
      "Enter the number of elements in the list6\n",
      "Enter number:1\n",
      "Enter number:2\n",
      "Enter number:3\n",
      "Enter number:4\n",
      "Enter number:5\n",
      "Enter number:6\n",
      "multiply of elements in the list: 720\n"
     ]
    }
   ],
   "source": [
    "l=[]\n",
    "mul =1\n",
    "x=int(input(\"Enter the number of elements in the list\"))\n",
    "for i in range(x):\n",
    "    n=int(input(\"Enter number:\"))\n",
    "    mul =mul *n\n",
    "print(\"multiply of elements in the list:\",mul) "
   ]
  },
  {
   "cell_type": "markdown",
   "metadata": {},
   "source": [
    "3. Write a Python program to find smallest number in a list?"
   ]
  },
  {
   "cell_type": "code",
   "execution_count": 12,
   "metadata": {},
   "outputs": [
    {
     "name": "stdout",
     "output_type": "stream",
     "text": [
      "Enter the number of elements in the list6\n",
      "Enter number:1\n",
      "Enter number:2\n",
      "Enter number:3\n",
      "Enter number:4\n",
      "Enter number:5\n",
      "Enter number:6\n",
      "smallest number of elements in the list: 1\n"
     ]
    }
   ],
   "source": [
    "l=[]\n",
    "x=int(input(\"Enter the number of elements in the list\"))\n",
    "for i in range(x):\n",
    "    n=int(input(\"Enter number:\"))\n",
    "    l.append(n)\n",
    "small=min(l)    \n",
    "        \n",
    "print(\"smallest number of elements in the list:\",small) "
   ]
  },
  {
   "cell_type": "markdown",
   "metadata": {},
   "source": [
    "4. Write a Python program to find largest number in a list?"
   ]
  },
  {
   "cell_type": "code",
   "execution_count": 13,
   "metadata": {},
   "outputs": [
    {
     "name": "stdout",
     "output_type": "stream",
     "text": [
      "Enter the number of elements in the list6\n",
      "Enter number:1\n",
      "Enter number:2\n",
      "Enter number:3\n",
      "Enter number:4\n",
      "Enter number:4\n",
      "Enter number:5\n",
      "smallest number of elements in the list: 5\n"
     ]
    }
   ],
   "source": [
    "l=[]\n",
    "x=int(input(\"Enter the number of elements in the list\"))\n",
    "for i in range(x):\n",
    "    n=int(input(\"Enter number:\"))\n",
    "    l.append(n)\n",
    "larger=max(l)    \n",
    "        \n",
    "print(\"smallest number of elements in the list:\",larger) "
   ]
  },
  {
   "cell_type": "markdown",
   "metadata": {},
   "source": [
    "5. Write a Python program to find second largest number in a list?"
   ]
  },
  {
   "cell_type": "code",
   "execution_count": 15,
   "metadata": {},
   "outputs": [
    {
     "name": "stdout",
     "output_type": "stream",
     "text": [
      "Enter the number of elements in the list3\n",
      "Enter number:1\n",
      "Enter number:2\n",
      "Enter number:3\n",
      "second largest number in the list: 2\n"
     ]
    }
   ],
   "source": [
    "l=[]\n",
    "\n",
    "x=int(input(\"Enter the number of elements in the list\"))\n",
    "for i in range(x):\n",
    "    n=int(input(\"Enter number:\"))\n",
    "    l.append(n)\n",
    "    \n",
    "l.sort()         \n",
    "print(\"second largest number in the list:\",l[-2])"
   ]
  },
  {
   "cell_type": "markdown",
   "metadata": {},
   "source": [
    "6. Write a Python program to find N largest elements from a list?"
   ]
  },
  {
   "cell_type": "code",
   "execution_count": 19,
   "metadata": {},
   "outputs": [
    {
     "name": "stdout",
     "output_type": "stream",
     "text": [
      "Enter the number of elements in the list: 5\n",
      "Enter nth largest number: 3\n",
      "Enter number:1\n",
      "Enter number:2\n",
      "Enter number:7\n",
      "Enter number:8\n",
      "Enter number:5\n",
      "3 largest number in the list: 5\n"
     ]
    }
   ],
   "source": [
    "l=[]\n",
    "\n",
    "x=int(input(\"Enter the number of elements in the list: \"))\n",
    "y = int(input(\"Enter nth largest number: \"))\n",
    "for i in range(x):\n",
    "    n=int(input(\"Enter number:\"))\n",
    "    l.append(n)\n",
    "    \n",
    "l.sort()         \n",
    "print(y,\"largest number in the list:\",l[-y])"
   ]
  },
  {
   "cell_type": "markdown",
   "metadata": {},
   "source": [
    "7. Write a Python program to print even numbers in a List?"
   ]
  },
  {
   "cell_type": "code",
   "execution_count": 21,
   "metadata": {},
   "outputs": [
    {
     "name": "stdout",
     "output_type": "stream",
     "text": [
      "Enter the number of elements in the list: 4\n",
      "Enter number:2\n",
      "Enter number:5\n",
      "Enter number:8\n",
      "Enter number:6\n",
      "Even numbers in the list:  [2, 8, 6]\n"
     ]
    }
   ],
   "source": [
    "l=[]\n",
    "w =[]\n",
    "x=int(input(\"Enter the number of elements in the list: \"))\n",
    "\n",
    "for i in range(x):\n",
    "    n=int(input(\"Enter number:\"))\n",
    "    l.append(n)\n",
    "for i in l:\n",
    "    if i % 2 ==0:\n",
    "        w.append(i)\n",
    "print(\"Even numbers in the list: \",w)        \n",
    "        \n",
    "        \n",
    "    "
   ]
  },
  {
   "cell_type": "markdown",
   "metadata": {},
   "source": [
    "8. Write a Python program to print odd numbers in a List?"
   ]
  },
  {
   "cell_type": "code",
   "execution_count": 23,
   "metadata": {},
   "outputs": [
    {
     "name": "stdout",
     "output_type": "stream",
     "text": [
      "Enter the number of elements in the list: 4\n",
      "Enter number:1\n",
      "Enter number:6\n",
      "Enter number:9\n",
      "Enter number:7\n",
      "Odd numbers in the list:  [1, 9, 7]\n"
     ]
    }
   ],
   "source": [
    "l=[]\n",
    "w =[]\n",
    "x=int(input(\"Enter the number of elements in the list: \"))\n",
    "\n",
    "for i in range(x):\n",
    "    n=int(input(\"Enter number:\"))\n",
    "    l.append(n)\n",
    "for i in l:\n",
    "    if i % 2 !=0:\n",
    "        w.append(i)\n",
    "print(\"Odd numbers in the list: \",w) "
   ]
  },
  {
   "cell_type": "markdown",
   "metadata": {},
   "source": [
    "9. Write a Python program to Remove empty List from List?"
   ]
  },
  {
   "cell_type": "code",
   "execution_count": 35,
   "metadata": {},
   "outputs": [
    {
     "name": "stdout",
     "output_type": "stream",
     "text": [
      "[1, 2, 'Hello', ['hello', 'python'], [], 5, 7]\n",
      "After removing empty list:  [1, 2, 'Hello', ['hello', 'python'], 5, 7]\n"
     ]
    }
   ],
   "source": [
    "l = [1,2,\"Hello\",[\"hello\",\"python\"],[],5,7]\n",
    "print(l)\n",
    "result= [i for i in l if i !=[]]\n",
    "print(\"After removing empty list: \",result)              "
   ]
  },
  {
   "cell_type": "markdown",
   "metadata": {},
   "source": [
    "10. Write a Python program to Cloning or Copying a list?"
   ]
  },
  {
   "cell_type": "code",
   "execution_count": 36,
   "metadata": {},
   "outputs": [
    {
     "name": "stdout",
     "output_type": "stream",
     "text": [
      "[1, 2, 'Hello', ['hello', 'python'], [], 5, 7]\n",
      "[1, 2, 'Hello', ['hello', 'python'], [], 5, 7]\n"
     ]
    }
   ],
   "source": [
    "l = [1,2,\"Hello\",[\"hello\",\"python\"],[],5,7]\n",
    "l2 = l.copy()\n",
    "print(l)\n",
    "print(l2)"
   ]
  },
  {
   "cell_type": "markdown",
   "metadata": {},
   "source": [
    "11. Write a Python program to Count occurrences of an element in a list?"
   ]
  },
  {
   "cell_type": "code",
   "execution_count": 37,
   "metadata": {},
   "outputs": [
    {
     "name": "stdout",
     "output_type": "stream",
     "text": [
      "Enter number to count occurance3\n",
      "3 occured:  2 times in a list.\n"
     ]
    }
   ],
   "source": [
    "l =[1,2,2,3,3,7,8,5,6]\n",
    "x = int(input(\"Enter number to count occurance\"))\n",
    "count =0\n",
    "for i in l:\n",
    "    if x==i:\n",
    "        count = count+1\n",
    "print(x,\"occured: \",count,\"times in a list.\")        \n",
    "    "
   ]
  },
  {
   "cell_type": "code",
   "execution_count": null,
   "metadata": {},
   "outputs": [],
   "source": []
  }
 ],
 "metadata": {
  "kernelspec": {
   "display_name": "Python 3",
   "language": "python",
   "name": "python3"
  },
  "language_info": {
   "codemirror_mode": {
    "name": "ipython",
    "version": 3
   },
   "file_extension": ".py",
   "mimetype": "text/x-python",
   "name": "python",
   "nbconvert_exporter": "python",
   "pygments_lexer": "ipython3",
   "version": "3.8.3"
  }
 },
 "nbformat": 4,
 "nbformat_minor": 4
}
