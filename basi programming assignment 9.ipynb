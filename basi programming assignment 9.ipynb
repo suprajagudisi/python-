{
 "cells": [
  {
   "cell_type": "markdown",
   "metadata": {},
   "source": [
    "Write a Python program to check if the given number is a Disarium Number?\n"
   ]
  },
  {
   "cell_type": "code",
   "execution_count": 7,
   "metadata": {},
   "outputs": [
    {
     "name": "stdout",
     "output_type": "stream",
     "text": [
      "Enter number: 185\n",
      "185  is not disarium number\n"
     ]
    }
   ],
   "source": [
    "def check_length(x):\n",
    "    length = 0\n",
    "    while(x>0):\n",
    "        length = length +1\n",
    "        x = x //10\n",
    "    return length\n",
    "\n",
    "def check_disnum(num,len):\n",
    "    sum =0\n",
    "    while (num>0):\n",
    "        rem = num % 10\n",
    "        sum =sum+int(rem**len)\n",
    "        num = num//10\n",
    "        len = len-1\n",
    "    return sum   \n",
    "x = int(input(\"Enter number: \"))\n",
    "rem =num= 0\n",
    "len = check_length(x)\n",
    "num =x\n",
    "y = num\n",
    "result = check_disnum(num,len)\n",
    "if (result == y):\n",
    "    print(\"{}  is a disarium number\".format(y))\n",
    "else:\n",
    "    print(\"{}  is not disarium number\".format(y))"
   ]
  },
  {
   "cell_type": "markdown",
   "metadata": {},
   "source": [
    "2. Write a Python program to print all disarium numbers between 1 to 100?"
   ]
  },
  {
   "cell_type": "code",
   "execution_count": 8,
   "metadata": {},
   "outputs": [
    {
     "name": "stdout",
     "output_type": "stream",
     "text": [
      "1  is a disarium number\n",
      "2  is a disarium number\n",
      "3  is a disarium number\n",
      "4  is a disarium number\n",
      "5  is a disarium number\n",
      "6  is a disarium number\n",
      "7  is a disarium number\n",
      "8  is a disarium number\n",
      "9  is a disarium number\n",
      "89  is a disarium number\n"
     ]
    }
   ],
   "source": [
    "rem = num =0\n",
    "for i in range(1,100+1):\n",
    "    num =i\n",
    "    y =num\n",
    "    len = check_length(i)\n",
    "    result = check_disnum(num,len)\n",
    "    if (result == y):\n",
    "        print(\"{}  is a disarium number\".format(y))"
   ]
  },
  {
   "cell_type": "markdown",
   "metadata": {},
   "source": [
    "3. Write a Python program to check if the given number is Happy Number?"
   ]
  },
  {
   "cell_type": "code",
   "execution_count": 5,
   "metadata": {},
   "outputs": [
    {
     "name": "stdout",
     "output_type": "stream",
     "text": [
      "Enter number13\n",
      "13 is a Happy number\n"
     ]
    }
   ],
   "source": [
    "def numsquaresum(n):\n",
    "    squaresum =0\n",
    "    while(n):\n",
    "        squaresum+=(n%10) *(n% 10)\n",
    "        n = int(n / 10)\n",
    "    return squaresum\n",
    "def ishappynumber(n):\n",
    "    slow =n\n",
    "    fast =n\n",
    "    while(True):\n",
    "        slow =numsquarenum(slow)\n",
    "        fast =numsquaresum(numsquaresum(fast))\n",
    "        if(slow!=fast):\n",
    "            continue\n",
    "        else:\n",
    "            break\n",
    "    return (slow ==1)   \n",
    "n=int(input(\"Enter number\"))\n",
    "if( ishappynumber(n)):\n",
    "    print(n, \"is a Happy number\")\n",
    "else:\n",
    "    print(n,\" is not a Happy number\")"
   ]
  },
  {
   "cell_type": "code",
   "execution_count": null,
   "metadata": {},
   "outputs": [],
   "source": [
    "Write a Python program to print all happy numbers between 1 and 100?"
   ]
  },
  {
   "cell_type": "code",
   "execution_count": 10,
   "metadata": {},
   "outputs": [
    {
     "name": "stdout",
     "output_type": "stream",
     "text": [
      "1 is a Happy number\n",
      "7 is a Happy number\n",
      "10 is a Happy number\n",
      "13 is a Happy number\n",
      "19 is a Happy number\n",
      "23 is a Happy number\n",
      "28 is a Happy number\n",
      "31 is a Happy number\n",
      "32 is a Happy number\n",
      "44 is a Happy number\n",
      "49 is a Happy number\n",
      "68 is a Happy number\n",
      "70 is a Happy number\n",
      "79 is a Happy number\n",
      "82 is a Happy number\n",
      "86 is a Happy number\n",
      "91 is a Happy number\n",
      "94 is a Happy number\n",
      "97 is a Happy number\n",
      "100 is a Happy number\n"
     ]
    }
   ],
   "source": [
    "def numsquaresum(n):\n",
    "    squaresum =0\n",
    "    while(n):\n",
    "        squaresum+=(n%10) *(n% 10)\n",
    "        n = int(n / 10)\n",
    "    return squaresum\n",
    "def ishappynumber(n):\n",
    "    slow =n\n",
    "    fast =n\n",
    "    while(True):\n",
    "        slow =numsquarenum(slow)\n",
    "        fast =numsquaresum(numsquaresum(fast))\n",
    "        if(slow!=fast):\n",
    "            continue\n",
    "        else:\n",
    "            break\n",
    "    return (slow ==1)   \n",
    "for i in range(1,100+1):\n",
    "    if( ishappynumber(i)):\n",
    "        print(i, \"is a Happy number\")\n",
    "   "
   ]
  },
  {
   "cell_type": "code",
   "execution_count": null,
   "metadata": {},
   "outputs": [],
   "source": [
    "5. Write a Python program to determine whether the given number is a Harshad Number?"
   ]
  },
  {
   "cell_type": "code",
   "execution_count": 17,
   "metadata": {},
   "outputs": [
    {
     "name": "stdout",
     "output_type": "stream",
     "text": [
      "Enter number to check: 156\n",
      "156 number is harshad number\n"
     ]
    }
   ],
   "source": [
    "\n",
    "def harshadnum(num):\n",
    "    sum =0\n",
    "    while(num>0):\n",
    "        rem = num % 10\n",
    "        sum =sum + rem \n",
    "        num = num//10\n",
    "    return sum\n",
    "num =int(input(\"Enter number to check: \"))\n",
    "temp = num\n",
    "check = harshadnum(num)\n",
    "if temp % check ==0:\n",
    "    print(\"{} number is harshad number\".format(num))\n",
    "else:\n",
    "    print(\"{} number is not harshad number\".format(num))"
   ]
  },
  {
   "cell_type": "code",
   "execution_count": null,
   "metadata": {},
   "outputs": [],
   "source": [
    "6. Write a Python program to print all pronic numbers between 1 and 100?"
   ]
  },
  {
   "cell_type": "code",
   "execution_count": 31,
   "metadata": {},
   "outputs": [
    {
     "name": "stdout",
     "output_type": "stream",
     "text": [
      "0 is a pronic number\n",
      "2 is a pronic number\n",
      "6 is a pronic number\n",
      "12 is a pronic number\n",
      "20 is a pronic number\n",
      "30 is a pronic number\n",
      "42 is a pronic number\n",
      "56 is a pronic number\n",
      "72 is a pronic number\n",
      "90 is a pronic number\n"
     ]
    }
   ],
   "source": [
    "for num in range(0,100+1):\n",
    "    for i in range(0,10):\n",
    "        if num == i*(i+1):\n",
    "            print(\"{} is a pronic number\".format(num))\n",
    "    \n",
    "            "
   ]
  }
 ],
 "metadata": {
  "kernelspec": {
   "display_name": "Python 3",
   "language": "python",
   "name": "python3"
  },
  "language_info": {
   "codemirror_mode": {
    "name": "ipython",
    "version": 3
   },
   "file_extension": ".py",
   "mimetype": "text/x-python",
   "name": "python",
   "nbconvert_exporter": "python",
   "pygments_lexer": "ipython3",
   "version": "3.8.3"
  }
 },
 "nbformat": 4,
 "nbformat_minor": 4
}
