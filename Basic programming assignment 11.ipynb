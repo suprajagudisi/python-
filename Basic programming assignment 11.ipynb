{
 "cells": [
  {
   "cell_type": "markdown",
   "metadata": {},
   "source": [
    "1.Write a Python program to find words which are greater than given length k?\n"
   ]
  },
  {
   "cell_type": "code",
   "execution_count": 3,
   "metadata": {},
   "outputs": [
    {
     "name": "stdout",
     "output_type": "stream",
     "text": [
      "Enter string: Hello python programmers!\n",
      "Enter length of the string: 6\n",
      "programmers!\n"
     ]
    }
   ],
   "source": [
    "my_str = str(input(\"Enter string: \"))\n",
    "k= int(input(\"Enter length of the string: \"))\n",
    "new_list=my_str.split(\" \")\n",
    "for word in new_list:\n",
    "    if len(word)> k:\n",
    "        print(word)"
   ]
  },
  {
   "cell_type": "markdown",
   "metadata": {},
   "source": [
    "2. Write a Python program for removing i-th character from a string?"
   ]
  },
  {
   "cell_type": "code",
   "execution_count": 15,
   "metadata": {},
   "outputs": [
    {
     "name": "stdout",
     "output_type": "stream",
     "text": [
      "Enter string: hello\n",
      "Enter ith char of the string: 2\n",
      "String after removal of 2 element helo\n"
     ]
    }
   ],
   "source": [
    "my_str = str(input(\"Enter string: \"))\n",
    "new_str =''\n",
    "k= int(input(\"Enter ith char of the string: \"))\n",
    "for i in range(0,len(my_str)):\n",
    "    if i!=k:\n",
    "        new_str += my_str[i]\n",
    "    \n",
    "print(\"String after removal of\",k,\"element\",new_str)        \n",
    "    "
   ]
  },
  {
   "cell_type": "markdown",
   "metadata": {},
   "source": [
    "3. Write a Python program to split and join a string?"
   ]
  },
  {
   "cell_type": "code",
   "execution_count": 18,
   "metadata": {},
   "outputs": [
    {
     "name": "stdout",
     "output_type": "stream",
     "text": [
      "Enter string: Hello python programmers!\n",
      "['Hello', 'python', 'programmers!']\n",
      "Hello-python-programmers!\n"
     ]
    }
   ],
   "source": [
    "s= str(input(\"Enter string: \"))\n",
    "l= s.split(\" \")\n",
    "print(l)\n",
    "sep =\"-\"\n",
    "s2=sep.join(l)\n",
    "print(s2)"
   ]
  },
  {
   "cell_type": "markdown",
   "metadata": {},
   "source": [
    "4. Write a Python to check if a given string is binary string or not?"
   ]
  },
  {
   "cell_type": "code",
   "execution_count": 22,
   "metadata": {},
   "outputs": [
    {
     "name": "stdout",
     "output_type": "stream",
     "text": [
      "Enter string: 1010\n",
      "It is a binary string\n"
     ]
    }
   ],
   "source": [
    "s= str(input(\"Enter string: \"))\n",
    "p =set(s)\n",
    "se = {'0','1'}\n",
    "if se==p or p =={'0'} or p =={'1'}:\n",
    "    print(\"It is a binary string\")\n",
    "else:\n",
    "    print(\"It is not a binary string\")"
   ]
  },
  {
   "cell_type": "markdown",
   "metadata": {},
   "source": [
    "5. Write a Python program to find uncommon words from two Strings?"
   ]
  },
  {
   "cell_type": "code",
   "execution_count": 33,
   "metadata": {},
   "outputs": [
    {
     "name": "stdout",
     "output_type": "stream",
     "text": [
      "Enter string: Hello python language\n",
      "Enter string: Hello python learners\n",
      "['language', 'learners']\n"
     ]
    }
   ],
   "source": [
    "s1= str(input(\"Enter string: \"))\n",
    "s2= str(input(\"Enter string: \"))\n",
    "l1=s1.split(\" \")\n",
    "l2= s2.split(\" \")\n",
    "s = set(l1)\n",
    "s_two = set(l2)\n",
    "uncommon= s.symmetric_difference(s_two)\n",
    "print(list(uncommon))"
   ]
  },
  {
   "cell_type": "markdown",
   "metadata": {},
   "source": [
    "6. Write a Python to find all duplicate characters in string?"
   ]
  },
  {
   "cell_type": "code",
   "execution_count": 37,
   "metadata": {},
   "outputs": [
    {
     "name": "stdout",
     "output_type": "stream",
     "text": [
      "Enter string: aabbcc\n",
      "a b c\n"
     ]
    }
   ],
   "source": [
    "s1= str(input(\"Enter string: \"))\n",
    "s2=[]\n",
    "for char in s1:\n",
    "    if s1.count(char)>1:\n",
    "        if char not in s2:\n",
    "            s2.append(char)\n",
    "print(*s2)            \n",
    "        "
   ]
  },
  {
   "cell_type": "markdown",
   "metadata": {},
   "source": [
    "7. Write a Python Program to check if a string contains any special character?"
   ]
  },
  {
   "cell_type": "code",
   "execution_count": 38,
   "metadata": {},
   "outputs": [
    {
     "name": "stdout",
     "output_type": "stream",
     "text": [
      "Enter string@hello!!\n",
      "String contains Special Characters.\n"
     ]
    }
   ],
   "source": [
    "import re \n",
    "  \n",
    "def check_splcharacter(str): \n",
    "    string_check= re.compile('[@_!#$%^&*()<>?/\\|}{~:]') \n",
    "    if(string_check.search(str) == None): \n",
    "        print(\"String does not contain Special Characters.\")\n",
    "          \n",
    "    else: \n",
    "         print(\"String contains Special Characters.\") \n",
    "        \n",
    "str = str(input(\"Enter string\"))        \n",
    "check_splcharacter(str)\n",
    "      \n",
    "\n",
    "  "
   ]
  }
 ],
 "metadata": {
  "kernelspec": {
   "display_name": "Python 3",
   "language": "python",
   "name": "python3"
  },
  "language_info": {
   "codemirror_mode": {
    "name": "ipython",
    "version": 3
   },
   "file_extension": ".py",
   "mimetype": "text/x-python",
   "name": "python",
   "nbconvert_exporter": "python",
   "pygments_lexer": "ipython3",
   "version": "3.8.3"
  }
 },
 "nbformat": 4,
 "nbformat_minor": 4
}
