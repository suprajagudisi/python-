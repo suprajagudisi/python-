{
 "cells": [
  {
   "cell_type": "code",
   "execution_count": null,
   "metadata": {},
   "outputs": [],
   "source": [
    "Write a Python Program to Add Two Matrices?\n",
    "2. Write a Python Program to Multiply Two Matrices?\n",
    "3. Write a Python Program to Transpose a Matrix?\n",
    "4. Write a Python Program to Sort Words in Alphabetic Order?\n",
    "5. Write a Python Program to Remove Punctuation From a String?"
   ]
  },
  {
   "cell_type": "code",
   "execution_count": 3,
   "metadata": {},
   "outputs": [
    {
     "name": "stdout",
     "output_type": "stream",
     "text": [
      "Enter number of rows: 2\n",
      "Enter number of columns: 3\n",
      "Enter the entries rowwise:\n",
      "1\n",
      "2\n",
      "3\n",
      "4\n",
      "5\n",
      "6\n",
      "first matrix: [[1, 2, 3], [4, 5, 6]]\n",
      "second matrix: [[1, 2, 3], [4, 5, 6]]\n",
      "Addition of two matrixes:  [[ 2  4  6]\n",
      " [ 8 10 12]]\n"
     ]
    }
   ],
   "source": [
    "import numpy as np\n",
    "row = int(input(\"Enter number of rows: \"))\n",
    "column = int(input(\"Enter number of columns: \"))\n",
    "matrix = []\n",
    "print(\"Enter the entries rowwise:\")\n",
    "for i in range(row):\n",
    "    a =[]\n",
    "    for j in range (column):\n",
    "        a.append(int(input()))\n",
    "    matrix.append(a)  \n",
    "matrix2 = matrix.copy()  \n",
    "print(\"first matrix:\",matrix)\n",
    "print(\"second matrix:\",matrix2)\n",
    "result= np.add(matrix,matrix2)\n",
    "print(\"Addition of two matrixes: \",result)"
   ]
  },
  {
   "cell_type": "markdown",
   "metadata": {},
   "source": [
    "2. Write a Python Program to Multiply Two Matrices?"
   ]
  },
  {
   "cell_type": "code",
   "execution_count": 5,
   "metadata": {},
   "outputs": [
    {
     "name": "stdout",
     "output_type": "stream",
     "text": [
      "Enter number of elements:6\n",
      "1\n",
      "2\n",
      "3\n",
      "4\n",
      "5\n",
      "6\n",
      "First matrix:  [array([1, 2]), array([3, 4]), array([5, 6])]\n",
      "second matrix: [array([1, 2]), array([3, 4]), array([5, 6])]\n",
      "[[ 1  4]\n",
      " [ 9 16]\n",
      " [25 36]]\n"
     ]
    }
   ],
   "source": [
    "import numpy as np\n",
    "l = []\n",
    "x = int(input(\"Enter number of elements:\"))\n",
    "for i in range(x):\n",
    "    l.append(int(input()))\n",
    "matrix =np.array_split(l,3)  \n",
    "matrix2 = matrix.copy()\n",
    "result = np.multiply(matrix,matrix2)\n",
    "print(\"First matrix: \",matrix)\n",
    "print(\"second matrix:\",matrix2)\n",
    "print(result)    "
   ]
  },
  {
   "cell_type": "markdown",
   "metadata": {},
   "source": [
    "3. Write a Python Program to Transpose a Matrix?"
   ]
  },
  {
   "cell_type": "code",
   "execution_count": 8,
   "metadata": {},
   "outputs": [
    {
     "name": "stdout",
     "output_type": "stream",
     "text": [
      "[1, 2]\n",
      "[3, 4]\n",
      "[5, 6]\n",
      "\n",
      "\n",
      "[1, 3, 5]\n",
      "[2, 4, 6]\n"
     ]
    }
   ],
   "source": [
    "m =[[1,2],[3,4],[5,6]]\n",
    "for row in m:\n",
    "    print(row)\n",
    "result = [[m[j][i] for j in range(len(m))] for i in range(len(m[0]))]  \n",
    "print(\"\\n\")\n",
    "for row in result:\n",
    "    print(\"Transpose matrix: \",row)"
   ]
  },
  {
   "cell_type": "markdown",
   "metadata": {},
   "source": [
    "4. Write a Python Program to Sort Words in Alphabetic Order?"
   ]
  },
  {
   "cell_type": "code",
   "execution_count": 11,
   "metadata": {},
   "outputs": [
    {
     "name": "stdout",
     "output_type": "stream",
     "text": [
      "Apple Mango Orange Banana\n",
      "Apple\n",
      "Banana\n",
      "Mango\n",
      "Orange\n"
     ]
    }
   ],
   "source": [
    "str = \"Apple Mango Orange Banana\"\n",
    "print(str)\n",
    "words = str.split()\n",
    "words.sort()\n",
    "for word in words:\n",
    "    print(word)"
   ]
  },
  {
   "cell_type": "markdown",
   "metadata": {},
   "source": [
    "5. Write a Python Program to Remove Punctuation From a String?"
   ]
  },
  {
   "cell_type": "code",
   "execution_count": 19,
   "metadata": {},
   "outputs": [
    {
     "name": "stdout",
     "output_type": "stream",
     "text": [
      "With punctuation:  Hello, Python! coding is fun.\n",
      "without punctuation:  Hello Python coding is fun\n"
     ]
    }
   ],
   "source": [
    "import string\n",
    "my_str = 'Hello, Python! coding is fun.'\n",
    "print(\"With punctuation: \",my_str)\n",
    "my_str=my_str.translate(my_str.maketrans(\"\",\"\",string.punctuation))\n",
    "print(\"without punctuation: \",my_str)    "
   ]
  }
 ],
 "metadata": {
  "kernelspec": {
   "display_name": "Python 3",
   "language": "python",
   "name": "python3"
  },
  "language_info": {
   "codemirror_mode": {
    "name": "ipython",
    "version": 3
   },
   "file_extension": ".py",
   "mimetype": "text/x-python",
   "name": "python",
   "nbconvert_exporter": "python",
   "pygments_lexer": "ipython3",
   "version": "3.8.3"
  }
 },
 "nbformat": 4,
 "nbformat_minor": 4
}
